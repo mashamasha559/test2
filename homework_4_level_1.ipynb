{
 "cells": [
  {
   "cell_type": "markdown",
   "metadata": {
    "pycharm": {
     "name": "#%% md\n"
    }
   },
   "source": [
    "### №1\n",
    "Что будет лежать в х?\n",
    "``` python\n",
    "fruit = list(\"banana\")\n",
    "x = fruit[1]\n",
    "```\n",
    "проверить и подписать с помощью комментариев каждую строчку кода"
   ]
  },
  {
   "cell_type": "code",
   "execution_count": 3,
   "metadata": {
    "pycharm": {
     "name": "#%%\n"
    }
   },
   "outputs": [
    {
     "data": {
      "text/plain": [
       "list"
      ]
     },
     "execution_count": 3,
     "metadata": {},
     "output_type": "execute_result"
    }
   ],
   "source": [
    "fruit = list(\"banana\")\n",
    "x = fruit[1]\n",
    "type(fruit)"
   ]
  },
  {
   "cell_type": "markdown",
   "metadata": {
    "pycharm": {
     "name": "#%% md\n"
    }
   },
   "source": [
    "### №2\n",
    "Какой метод используется для добавления элемента в конец списка?\n",
    "```python\n",
    "lst = [7, -9, 56, \"hgvmn\", [2, 3, 6]]\n",
    "```\n",
    "добавьте в конец списка кортеж из чисел 67, 45, 100"
   ]
  },
  {
   "cell_type": "code",
   "execution_count": null,
   "metadata": {
    "pycharm": {
     "name": "#%%\n"
    }
   },
   "outputs": [],
   "source": []
  },
  {
   "cell_type": "markdown",
   "metadata": {
    "pycharm": {
     "name": "#%% md\n"
    }
   },
   "source": [
    "### №3\n",
    "Чему равно n в следующем куске кода?\n",
    "```python\n",
    "words = \"My e-mail is v-ambr@nordic.com\"\n",
    "pieces = words.split()\n",
    "parts = pieces[3].split('-')\n",
    "n = parts[1]\n",
    "```\n",
    "подписать каждую строчку кода, чтобы поянить, почему именно такой ответ"
   ]
  },
  {
   "cell_type": "code",
   "execution_count": 5,
   "metadata": {
    "pycharm": {
     "name": "#%%\n"
    }
   },
   "outputs": [
    {
     "data": {
      "text/plain": [
       "'ambr@nordic.com'"
      ]
     },
     "execution_count": 5,
     "metadata": {},
     "output_type": "execute_result"
    }
   ],
   "source": [
    "words = \"My e-mail is v-ambr@nordic.com\"\n",
    "pieces = words.split()\n",
    "parts = pieces[3].split('-')\n",
    "n = parts[1]\n",
    "n"
   ]
  },
  {
   "cell_type": "markdown",
   "metadata": {
    "pycharm": {
     "name": "#%% md\n"
    }
   },
   "source": [
    "### №4\n",
    "Есть словарь\n",
    "```python\n",
    "d = { 'fri' : 20,\n",
    "      'thu' : 6,\n",
    "      'sat' : 0 }\n",
    "```\n",
    "Как будет выглядеть словарь после следующих действий\n",
    "```python\n",
    "d['sat'] = 9\n",
    "d['sun'] = 67\n",
    "d['thu'] = 5\n",
    "```\n",
    "каждую строчку подписать"
   ]
  },
  {
   "cell_type": "code",
   "execution_count": 6,
   "metadata": {
    "pycharm": {
     "name": "#%%\n"
    }
   },
   "outputs": [
    {
     "data": {
      "text/plain": [
       "{'fri': 20, 'thu': 5, 'sat': 9, 'sun': 67}"
      ]
     },
     "execution_count": 6,
     "metadata": {},
     "output_type": "execute_result"
    }
   ],
   "source": [
    "d = { 'fri' : 20,\n",
    "      'thu' : 6,\n",
    "      'sat' : 0 }\n",
    "d['sat'] = 9\n",
    "d['sun'] = 67\n",
    "d['thu'] = 5\n",
    "d"
   ]
  },
  {
   "cell_type": "code",
   "execution_count": null,
   "metadata": {},
   "outputs": [],
   "source": []
  }
 ],
 "metadata": {
  "kernelspec": {
   "display_name": "Python 3 (ipykernel)",
   "language": "python",
   "name": "python3"
  },
  "language_info": {
   "codemirror_mode": {
    "name": "ipython",
    "version": 3
   },
   "file_extension": ".py",
   "mimetype": "text/x-python",
   "name": "python",
   "nbconvert_exporter": "python",
   "pygments_lexer": "ipython3",
   "version": "3.10.1"
  },
  "toc": {
   "base_numbering": 1,
   "nav_menu": {},
   "number_sections": true,
   "sideBar": true,
   "skip_h1_title": false,
   "title_cell": "Table of Contents",
   "title_sidebar": "Contents",
   "toc_cell": false,
   "toc_position": {},
   "toc_section_display": true,
   "toc_window_display": false
  }
 },
 "nbformat": 4,
 "nbformat_minor": 1
}
